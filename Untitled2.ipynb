{
 "cells": [
  {
   "cell_type": "code",
   "execution_count": null,
   "id": "b8d12c3f-8e70-4fa2-add4-c7906f9b5eb6",
   "metadata": {},
   "outputs": [],
   "source": [
    "import pandas as pd #for reading our dataset\n",
    "import numpy as np #working with arrrays & performing linear algebra calculations \n",
    "import matplotlib.pyplot as plt #for visualization\n",
    "import seaborn as sns #for visualization\n",
    "\n",
    "%matplotlib inline\n",
    "\n",
    "hearts = pd.read_csv('heart.csv')\n",
    "hearts.info()\n",
    "hearts.head()\n",
    "hearts.describe()\n",
    "hearts.shape\n",
    "hearts.groupby('HeartDisease').size()\n",
    "\n",
    "# data visualization:\n",
    "# Histogram (categorical features)\n",
    "# Grabbing categorical variables\n",
    "num_feats = ['Age', 'RestingBP', 'Cholesterol', 'MaxHR', 'Oldpeak']\n",
    "\n",
    "# Create the histograms\n",
    "axes = hearts[num_feats].hist(bins=15, figsize=(10, 10), layout=(3, 2))\n",
    "\n",
    "# Adding the axis labels\n",
    "for axis, feat_name in zip(axes.flatten(), num_feats):\n",
    "    axis.set_xlabel(feat_name)\n",
    "    axis.set_ylabel('Frequency')    \n",
    "\n",
    "plt.tight_layout()\n",
    "plt.show()\n",
    "\n",
    "#Box plot (numerical features)\n",
    "plt.figure(figsize=(15, 10))\n",
    "for i, feature in enumerate(num_feats):\n",
    "    plt.subplot(3, 2, i+1)\n",
    "    sns.boxplot(x='HeartDisease', y=feature, data=hearts)\n",
    "    plt.title(f'Box Plot of {feature} by HeartDisease')\n",
    "plt.tight_layout()\n",
    "plt.show()\n",
    "\n",
    "\n",
    "\n",
    "\n",
    "\n",
    "\n",
    "\n",
    "\n",
    "\n",
    "\n",
    "\n",
    "\n",
    "\n",
    "\n",
    "\n",
    "\n"
   ]
  }
 ],
 "metadata": {
  "kernelspec": {
   "display_name": "Python 3 (ipykernel)",
   "language": "python",
   "name": "python3"
  },
  "language_info": {
   "codemirror_mode": {
    "name": "ipython",
    "version": 3
   },
   "file_extension": ".py",
   "mimetype": "text/x-python",
   "name": "python",
   "nbconvert_exporter": "python",
   "pygments_lexer": "ipython3",
   "version": "3.11.7"
  }
 },
 "nbformat": 4,
 "nbformat_minor": 5
}
